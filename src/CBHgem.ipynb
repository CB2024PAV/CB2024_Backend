{
  "cells": [
    {
      "cell_type": "code",
      "execution_count": 1,
      "metadata": {
        "id": "rZUk2VI4voON"
      },
      "outputs": [
        {
          "name": "stderr",
          "output_type": "stream",
          "text": [
            "C:\\Users\\EndUser\\AppData\\Roaming\\Python\\Python312\\site-packages\\tqdm\\auto.py:21: TqdmWarning: IProgress not found. Please update jupyter and ipywidgets. See https://ipywidgets.readthedocs.io/en/stable/user_install.html\n",
            "  from .autonotebook import tqdm as notebook_tqdm\n"
          ]
        }
      ],
      "source": [
        "import os\n",
        "import google.generativeai as genai\n",
        "from langchain.prompts import PromptTemplate\n",
        "from langchain_google_genai import ChatGoogleGenerativeAI\n",
        "from langchain.chains import SequentialChain, LLMChain\n",
        "from dotenv import load_dotenv"
      ]
    },
    {
      "cell_type": "code",
      "execution_count": 2,
      "metadata": {},
      "outputs": [],
      "source": [
        "def get_good_morning_msg(background):\n",
        "    load_dotenv()\n",
        "    api_key = os.getenv(\"GOOGLE_API_KEY\")\n",
        "    llm = ChatGoogleGenerativeAI(model=\"gemini-1.5-flash\")\n",
        "\n",
        "    good_morning = PromptTemplate(\n",
        "        input_variables=[\"background\"],\n",
        "        template=\"\"\"\n",
        "        Generate a good morning message for a patient who is having a kind memory impairment.\n",
        "        The message should include a pleasant greeting, today's date, brief about who he is, past key events, goals for the day, a breif health and wellness check and an encouraging note in the end.\n",
        "        Below are details about the patient that can help you formulate a nice paragraph in not more than 200 words.\n",
        "        {background}\"\"\"\n",
        "    )\n",
        "\n",
        "    output = llm.invoke(good_morning.format(background = background))\n",
        "    # print(output.content)\n",
        "    return output.content\n"
      ]
    },
    {
      "cell_type": "code",
      "execution_count": 3,
      "metadata": {},
      "outputs": [
        {
          "name": "stdout",
          "output_type": "stream",
          "text": [
            "Good morning, Bob! It's August 10, 2023. Remember you were a talented mechanic who worked for Tata for many years? You later became a plumber and had a successful career. You met your wonderful wife, Alice, at a bakery in Santa Monica, and you got married by the beautiful beach. You have two children, Nemo and Dory, and you're a proud grandpa to little Rin. Today, you're going to enjoy your morning walk, have your favorite scrambled eggs, and work on some puzzles in the newspaper. How about we try a new puzzle today? Maybe even a Rubik's cube! Remember, you're a strong and capable man, and we're all here to support you. Have a wonderful day, Bob! \n",
            "\n"
          ]
        }
      ],
      "source": [
        "bg = \"\"\"\n",
        "Q1. Full Name: \n",
        "A1. Bob\n",
        "\n",
        "Q2. Date of Birth: \n",
        "A2. March, 2, 1974\n",
        "\n",
        "Q3. Gender and Pronouns: \n",
        "A3. Male, He/Him\n",
        "\n",
        "Q4. Medical Diagnosis: \n",
        "A4. Bob has been diagnoised with Dementia since 2020. He has difficulty remembering his family members and past events of his adult life. He only remembers about his school days and everything after that is blurry.\n",
        "\n",
        "Q5. How does your typical day look like: \n",
        "A5. He gets up around 6AM, goes for a walk in his neighborhood, prepare eggs for breakfast. He spends sometime reading the newspaper and solving puzzles in it. His caretaker visits him during the afternoon who also brings lunch for him. Later he writes some articles for his blog and goes to bed after dinner.\n",
        "\n",
        "Q6. Details of key Family and friends: \n",
        "A6. Bob was married to Alice. Alice passed away in 2022. He has two kids Nemo and Dory. He also has a grandson named Rin (son of Nemo) that he absolutely adores. \n",
        "\n",
        "Q7. Activities that provide comfort: \n",
        "A7. Spending time at the beach, he loved all shades of blue color. He loves solving puzzles! Especially the rubik's cube.\n",
        "\n",
        "Q8. Any known triggers for stress and anxiety: \n",
        "A8. Crowded places, loud noises\n",
        "\n",
        "Q9. Any Major life events: \n",
        "A9. Bob worked as a Mechanic for Tata for around 10 years and then transitioned to become a Plumber. He continued in this role for the next 22 years. \n",
        "He met his wife near a bakery in Santa Monica. Alice loves baking and the smell of bread. They got married by the beach in 1974. \n",
        "Met with an accident that injured knee in 2008.\n",
        "\"\"\"\n",
        "\n",
        "print(get_good_morning_msg(bg))"
      ]
    }
  ],
  "metadata": {
    "colab": {
      "provenance": []
    },
    "kernelspec": {
      "display_name": "Python 3",
      "name": "python3"
    },
    "language_info": {
      "codemirror_mode": {
        "name": "ipython",
        "version": 3
      },
      "file_extension": ".py",
      "mimetype": "text/x-python",
      "name": "python",
      "nbconvert_exporter": "python",
      "pygments_lexer": "ipython3",
      "version": "3.12.7"
    }
  },
  "nbformat": 4,
  "nbformat_minor": 0
}
