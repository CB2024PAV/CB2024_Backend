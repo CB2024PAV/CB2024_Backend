{
  "cells": [
    {
      "cell_type": "code",
      "execution_count": 1,
      "metadata": {
        "id": "rZUk2VI4voON"
      },
      "outputs": [
        {
          "name": "stderr",
          "output_type": "stream",
          "text": [
            "C:\\Users\\EndUser\\AppData\\Roaming\\Python\\Python312\\site-packages\\tqdm\\auto.py:21: TqdmWarning: IProgress not found. Please update jupyter and ipywidgets. See https://ipywidgets.readthedocs.io/en/stable/user_install.html\n",
            "  from .autonotebook import tqdm as notebook_tqdm\n"
          ]
        }
      ],
      "source": [
        "import sys\n",
        "import os\n",
        "import google.generativeai as genai\n",
        "sys.path.append(os.path.abspath(\"..\"))\n",
        "import config"
      ]
    },
    {
      "cell_type": "code",
      "execution_count": 10,
      "metadata": {},
      "outputs": [],
      "source": [
        "genai.configure(api_key=config.GOOGLE_API_KEY)\n",
        "model = genai.GenerativeModel(model_name=\"gemini-1.5-flash\")\n",
        "\n",
        "# Define the background and question\n",
        "background = \"\"\"\n",
        "Background:\n",
        "Q: What is the purpose of the project?\n",
        "A: The project aims to enhance automated data labeling using LiDAR data.\n",
        "\n",
        "Q: Who are the key team members?\n",
        "A: The key team members include Joong Ho Kim, Mason Audet, Melanie Gomez, and Aaryan Kumar.\n",
        "\"\"\"\n",
        "\n",
        "# Define your specific question\n",
        "question = \"Summarize what we know so far about the project\"\n",
        "\n",
        "# Combine background and question\n",
        "input_text = f\"{background}\\nQuestion: {question}\""
      ]
    },
    {
      "cell_type": "code",
      "execution_count": 11,
      "metadata": {},
      "outputs": [
        {
          "name": "stdout",
          "output_type": "stream",
          "text": [
            "Response:\n",
            "The project focuses on improving automated data labeling using LiDAR data. The team working on this project consists of Joong Ho Kim, Mason Audet, Melanie Gomez, and Aaryan Kumar. \n",
            "\n"
          ]
        }
      ],
      "source": [
        "# Generate a response\n",
        "try:\n",
        "    response = model.generate_content(input_text)\n",
        "    print(\"Response:\")\n",
        "    print(response.text)\n",
        "except Exception as e:\n",
        "    print(f\"An error occurred: {e}\")"
      ]
    },
    {
      "cell_type": "code",
      "execution_count": null,
      "metadata": {},
      "outputs": [],
      "source": []
    }
  ],
  "metadata": {
    "colab": {
      "provenance": []
    },
    "kernelspec": {
      "display_name": "Python 3",
      "name": "python3"
    },
    "language_info": {
      "codemirror_mode": {
        "name": "ipython",
        "version": 3
      },
      "file_extension": ".py",
      "mimetype": "text/x-python",
      "name": "python",
      "nbconvert_exporter": "python",
      "pygments_lexer": "ipython3",
      "version": "3.12.7"
    }
  },
  "nbformat": 4,
  "nbformat_minor": 0
}
