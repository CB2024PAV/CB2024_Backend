{
  "cells": [
    {
      "cell_type": "code",
      "execution_count": 1,
      "metadata": {
        "id": "rZUk2VI4voON"
      },
      "outputs": [
        {
          "name": "stderr",
          "output_type": "stream",
          "text": [
            "C:\\Users\\EndUser\\AppData\\Roaming\\Python\\Python312\\site-packages\\tqdm\\auto.py:21: TqdmWarning: IProgress not found. Please update jupyter and ipywidgets. See https://ipywidgets.readthedocs.io/en/stable/user_install.html\n",
            "  from .autonotebook import tqdm as notebook_tqdm\n"
          ]
        }
      ],
      "source": [
        "import os\n",
        "from datetime import date\n",
        "# import google.generativeai as genai\n",
        "from langchain.prompts import PromptTemplate\n",
        "from langchain_google_genai import ChatGoogleGenerativeAI\n",
        "# from langchain.chains import SequentialChain, LLMChain\n",
        "from dotenv import load_dotenv"
      ]
    },
    {
      "cell_type": "code",
      "execution_count": 2,
      "metadata": {},
      "outputs": [],
      "source": [
        "def get_good_morning_msg(background):\n",
        "    load_dotenv()\n",
        "    api_key = os.getenv(\"GOOGLE_API_KEY\")\n",
        "    llm = ChatGoogleGenerativeAI(model=\"gemini-1.5-flash\")\n",
        "\n",
        "    good_morning = PromptTemplate(\n",
        "        input_variables=[\"background\"],\n",
        "        template=\"\"\"\n",
        "        Generate a good morning message for a patient who is having a kind memory impairment.\n",
        "        The message should include a pleasant greeting, today's date, brief about who he is, past key events, goals for the day, a breif health and wellness check and an encouraging note in the end.\n",
        "        Below are details about the patient that can help you formulate a nice paragraph in not more than 200 words.\n",
        "        {background}\"\"\"\n",
        "    )\n",
        "\n",
        "    output = llm.invoke(good_morning.format(background = background))\n",
        "    # print(output.content)\n",
        "    return output.content\n"
      ]
    },
    {
      "cell_type": "code",
      "execution_count": 3,
      "metadata": {},
      "outputs": [
        {
          "name": "stdout",
          "output_type": "stream",
          "text": [
            "Good morning, Bob! It's a beautiful Tuesday, October 24th. Remember those wonderful school days? You were a bright student, always curious and full of life. You had a great career as a mechanic and plumber, providing for your lovely family. You were a devoted husband to Alice, and you have two amazing children, Nemo and Dory, and a precious grandson named Rin.  Remember the beach? You always loved the color blue and the sound of the waves. Today, we can work on some puzzles, maybe even try a Rubik's cube!  How are you feeling today? Remember to take deep breaths and avoid crowded places or loud noises. We'll have a wonderful day together. 😊 \n",
            "\n"
          ]
        }
      ],
      "source": [
        "bg = \"\"\"\n",
        "Q1. Full Name: \n",
        "A1. Bob\n",
        "\n",
        "Q2. Date of Birth: \n",
        "A2. March, 2, 1974\n",
        "\n",
        "Q3. Gender and Pronouns: \n",
        "A3. Male, He/Him\n",
        "\n",
        "Q4. Medical Diagnosis: \n",
        "A4. Bob has been diagnoised with Dementia since 2020. He has difficulty remembering his family members and past events of his adult life. He only remembers about his school days and everything after that is blurry.\n",
        "\n",
        "Q5. How does your typical day look like: \n",
        "A5. He gets up around 6AM, goes for a walk in his neighborhood, prepare eggs for breakfast. He spends sometime reading the newspaper and solving puzzles in it. His caretaker visits him during the afternoon who also brings lunch for him. Later he writes some articles for his blog and goes to bed after dinner.\n",
        "\n",
        "Q6. Details of key Family and friends: \n",
        "A6. Bob was married to Alice. Alice passed away in 2022. He has two kids Nemo and Dory. He also has a grandson named Rin (son of Nemo) that he absolutely adores. \n",
        "\n",
        "Q7. Activities that provide comfort: \n",
        "A7. Spending time at the beach, he loved all shades of blue color. He loves solving puzzles! Especially the rubik's cube.\n",
        "\n",
        "Q8. Any known triggers for stress and anxiety: \n",
        "A8. Crowded places, loud noises\n",
        "\n",
        "Q9. Any Major life events: \n",
        "A9. Bob worked as a Mechanic for Tata for around 10 years and then transitioned to become a Plumber. He continued in this role for the next 22 years. \n",
        "He met his wife near a bakery in Santa Monica. Alice loves baking and the smell of bread. They got married by the beach in 1974. \n",
        "Met with an accident that injured knee in 2008.\n",
        "\"\"\"\n",
        "\n",
        "print(get_good_morning_msg(bg))"
      ]
    },
    {
      "cell_type": "code",
      "execution_count": 6,
      "metadata": {},
      "outputs": [],
      "source": [
        "def get_chat_response(background, question):\n",
        "    load_dotenv()\n",
        "    api_key = os.getenv(\"GOOGLE_API_KEY\")\n",
        "    llm = ChatGoogleGenerativeAI(model=\"gemini-1.5-flash\")\n",
        "    dt = date.today()\n",
        "\n",
        "    chat_prompt = PromptTemplate(\n",
        "        input_variables=[\"background\", \"question\"],\n",
        "        template=\"\"\"\n",
        "        {background}\n",
        "        \n",
        "        Given the above background and context answer the below question. Look for any additional details you need. \n",
        "        Something you might need to know is today's date is {date}. \n",
        "        \n",
        "        {question}\"\"\"\n",
        "    )\n",
        "\n",
        "    output_int = llm.invoke(chat_prompt.format(background = background, question=question, date=dt))\n",
        "\n",
        "    final_prompt = PromptTemplate(\n",
        "        input_variables=[\"answer\", \"question\"],\n",
        "        template=\"\"\"\n",
        "        Question: {question}\n",
        "        Answer: {answer}\n",
        "        \n",
        "        The answer may or may not be an elaborated version with extra explanation. Can you understand the question and answer and only pick out the main points needed. \n",
        "        Give me ONLY the answer.\n",
        "        \"\"\"\n",
        "    )\n",
        "\n",
        "    output = llm.invoke(final_prompt.format(question=question, answer = output_int))\n",
        "\n",
        "\n",
        "    return output.content\n"
      ]
    },
    {
      "cell_type": "code",
      "execution_count": 7,
      "metadata": {},
      "outputs": [
        {
          "name": "stdout",
          "output_type": "stream",
          "text": [
            "4 years \n",
            "\n"
          ]
        }
      ],
      "source": [
        "\n",
        "bg = '''\n",
        "Q1. Full Name: \n",
        "A1. Bob\n",
        "\n",
        "Q2. Date of Birth: \n",
        "A2. March, 2, 1974\n",
        "\n",
        "Q3. Gender and Pronouns: \n",
        "A3. Male, He/Him\n",
        "\n",
        "Q4. Medical Diagnosis: \n",
        "A4. Bob has been diagnoised with Dementia since 2020. He has difficulty remembering his family members and past events of his adult life. He only remembers about his school days and everything after that is blurry.\n",
        "'''\n",
        "question = 'Since how many years do I have dementia?'\n",
        "print(get_chat_response(bg, question))"
      ]
    },
    {
      "cell_type": "code",
      "execution_count": null,
      "metadata": {},
      "outputs": [],
      "source": []
    }
  ],
  "metadata": {
    "colab": {
      "provenance": []
    },
    "kernelspec": {
      "display_name": "Python 3",
      "name": "python3"
    },
    "language_info": {
      "codemirror_mode": {
        "name": "ipython",
        "version": 3
      },
      "file_extension": ".py",
      "mimetype": "text/x-python",
      "name": "python",
      "nbconvert_exporter": "python",
      "pygments_lexer": "ipython3",
      "version": "3.12.7"
    }
  },
  "nbformat": 4,
  "nbformat_minor": 0
}
