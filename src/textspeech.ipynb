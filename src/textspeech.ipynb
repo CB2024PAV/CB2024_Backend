{
 "cells": [
  {
   "cell_type": "code",
   "execution_count": 1,
   "metadata": {},
   "outputs": [],
   "source": [
    "from google.cloud import texttospeech\n",
    "import base64\n",
    "import os\n",
    "\n",
    "def text_to_speech(input_text):\n",
    "    os.environ['GOOGLE_APPLICATION_CREDENTIALS'] = '../cbh-vap-b0f7b2cb1b55.json'\n",
    "    client = texttospeech.TextToSpeechClient()\n",
    "    synthesis_input = texttospeech.SynthesisInput(text=input_text)\n",
    "    \n",
    "    voice = texttospeech.VoiceSelectionParams(language_code=\"en-US\", ssml_gender=texttospeech.SsmlVoiceGender.NEUTRAL)\n",
    "    audio_config = texttospeech.AudioConfig(audio_encoding=texttospeech.AudioEncoding.MP3)\n",
    "    \n",
    "    response = client.synthesize_speech(input=synthesis_input, voice=voice, audio_config=audio_config)\n",
    "    \n",
    "    audio_content_base64 = base64.b64encode(response.audio_content).decode('utf-8')\n",
    "    url = f\"data:audio/mp3;base64,{audio_content_base64}\"\n",
    "    return url\n",
    "\n",
    "\n",
    "print(text_to_speech('hi I am very excited to test the tts API'))"
   ]
  }
 ],
 "metadata": {
  "kernelspec": {
   "display_name": "Python 3",
   "language": "python",
   "name": "python3"
  },
  "language_info": {
   "codemirror_mode": {
    "name": "ipython",
    "version": 3
   },
   "file_extension": ".py",
   "mimetype": "text/x-python",
   "name": "python",
   "nbconvert_exporter": "python",
   "pygments_lexer": "ipython3",
   "version": "3.12.7"
  }
 },
 "nbformat": 4,
 "nbformat_minor": 2
}
