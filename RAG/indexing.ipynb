{
 "cells": [
  {
   "cell_type": "code",
   "execution_count": 20,
   "metadata": {},
   "outputs": [
    {
     "name": "stdout",
     "output_type": "stream",
     "text": [
      "collections=[]\n"
     ]
    }
   ],
   "source": [
    "from qdrant_client import QdrantClient\n",
    "from dotenv import load_dotenv\n",
    "import os\n",
    "\n",
    "load_dotenv()\n",
    "\n",
    "qdrant_url = os.environ.get('QDRANT_URL')\n",
    "qdrant_key = os.environ.get('QDRANT_KEY')\n",
    "\n",
    "qdrant_client = QdrantClient(\n",
    "    url=qdrant_url, \n",
    "    api_key=qdrant_key\n",
    ")\n",
    "\n",
    "print(qdrant_client.get_collections())"
   ]
  },
  {
   "cell_type": "code",
   "execution_count": 52,
   "metadata": {},
   "outputs": [],
   "source": [
    "questions_answer_merge = [\n",
    "    \"Who is Dory?: Dory is your daughter and she is 40 year old woman who owns 2 cats and doesn't have any children. She's a real estate broker.\",\n",
    "    \"What did I work as in the past? You worked as a plumber and then worked as a mechanic in Tata industry\",\n",
    "    \"Who is my wife? Alice is your wife. She passed away in 2020 due to covid.\"\n",
    "]"
   ]
  },
  {
   "cell_type": "code",
   "execution_count": 39,
   "metadata": {},
   "outputs": [],
   "source": [
    "from langchain.embeddings import SentenceTransformerEmbeddings\n",
    "\n",
    "embeddings = SentenceTransformerEmbeddings(model_name=\"all-MiniLM-L6-v2\")"
   ]
  },
  {
   "cell_type": "code",
   "execution_count": 53,
   "metadata": {},
   "outputs": [
    {
     "name": "stdout",
     "output_type": "stream",
     "text": [
      "<langchain_qdrant.vectorstores.Qdrant object at 0x0000016582C02FC0>\n"
     ]
    }
   ],
   "source": [
    "from langchain_qdrant import Qdrant\n",
    "from qdrant_client.http.models import Distance\n",
    "from langchain_core.documents import Document\n",
    "\n",
    "\n",
    "qdrant = Qdrant.from_texts(\n",
    "    # array which we want to embed\n",
    "    questions_answer_merge,\n",
    "    embeddings,\n",
    "    url=qdrant_url,\n",
    "    api_key=qdrant_key,\n",
    "    prefer_grpc=False,\n",
    "    collection_name=\"memory\",\n",
    "    metadatas=[{\"id\":1},{\"id\":2},{\"id\":3}],\n",
    "    distance_func=Distance.COSINE\n",
    ")\n",
    "\n",
    "print(qdrant)"
   ]
  },
  {
   "cell_type": "code",
   "execution_count": 33,
   "metadata": {},
   "outputs": [
    {
     "data": {
      "text/plain": [
       "{'_embedding_model_name': None,\n",
       " '_sparse_embedding_model_name': None,\n",
       " '_init_options': {'location': None,\n",
       "  'url': 'https://4d95422c-e5d2-4e5a-8e87-a63ed01c3d3d.europe-west3-0.gcp.cloud.qdrant.io:6333',\n",
       "  'port': 6333,\n",
       "  'grpc_port': 6334,\n",
       "  'prefer_grpc': False,\n",
       "  'https': None,\n",
       "  'api_key': 'hoGTpaO1Wbo_SbJ2J8x0qK67SyE5JZjw3alcJbsbhdlqEH6S_roq6Q',\n",
       "  'prefix': None,\n",
       "  'timeout': None,\n",
       "  'host': None,\n",
       "  'path': None,\n",
       "  'force_disable_check_same_thread': False,\n",
       "  'grpc_options': None,\n",
       "  'auth_token_provider': None},\n",
       " '_client': <qdrant_client.qdrant_remote.QdrantRemote at 0x165f1e67d70>}"
      ]
     },
     "execution_count": 33,
     "metadata": {},
     "output_type": "execute_result"
    }
   ],
   "source": [
    "qdrant.__dict__[\"client\"].__dict__"
   ]
  },
  {
   "cell_type": "code",
   "execution_count": null,
   "metadata": {},
   "outputs": [],
   "source": []
  }
 ],
 "metadata": {
  "kernelspec": {
   "display_name": "Python 3",
   "language": "python",
   "name": "python3"
  },
  "language_info": {
   "codemirror_mode": {
    "name": "ipython",
    "version": 3
   },
   "file_extension": ".py",
   "mimetype": "text/x-python",
   "name": "python",
   "nbconvert_exporter": "python",
   "pygments_lexer": "ipython3",
   "version": "3.12.3"
  }
 },
 "nbformat": 4,
 "nbformat_minor": 2
}
