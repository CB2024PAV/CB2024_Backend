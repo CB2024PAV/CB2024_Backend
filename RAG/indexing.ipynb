{
 "cells": [
  {
   "cell_type": "code",
   "execution_count": 20,
   "metadata": {},
   "outputs": [
    {
     "name": "stdout",
     "output_type": "stream",
     "text": [
      "collections=[]\n"
     ]
    }
   ],
   "source": [
    "from qdrant_client import QdrantClient\n",
    "from dotenv import load_dotenv\n",
    "import os\n",
    "\n",
    "load_dotenv()\n",
    "\n",
    "qdrant_url = os.environ.get('QDRANT_URL')\n",
    "qdrant_key = os.environ.get('QDRANT_KEY')\n",
    "\n",
    "qdrant_client = QdrantClient(\n",
    "    url=qdrant_url, \n",
    "    api_key=qdrant_key\n",
    ")\n",
    "\n",
    "print(qdrant_client.get_collections())"
   ]
  },
  {
   "cell_type": "code",
   "execution_count": 69,
   "metadata": {},
   "outputs": [],
   "source": [
    "questions_answer_merge = [\n",
    "    \"Who is Dory?: Dory is your daughter and she is 40 year old woman who owns 2 cats and doesn't have any children. She's a real estate broker.\",\n",
    "    \"What did I work as in the past? You worked as a plumber and then worked as a mechanic in Tata industry\",\n",
    "    \"Who is my wife? Alice is your wife. She passed away in 2020 due to covid.\"\n",
    "]"
   ]
  },
  {
   "cell_type": "code",
   "execution_count": 39,
   "metadata": {},
   "outputs": [],
   "source": [
    "from langchain.embeddings import SentenceTransformerEmbeddings\n",
    "\n",
    "embeddings = SentenceTransformerEmbeddings(model_name=\"all-MiniLM-L6-v2\")"
   ]
  },
  {
   "cell_type": "code",
   "execution_count": 86,
   "metadata": {},
   "outputs": [
    {
     "ename": "ValidationError",
     "evalue": "9 validation errors for Document\nembedding.0\n  Input should be a valid number [type=float_type, input_value=('model_name', 'all-MiniLM-L6-v2'), input_type=tuple]\n    For further information visit https://errors.pydantic.dev/2.9/v/float_type\nembedding.1\n  Input should be a valid number [type=float_type, input_value=('embed_batch_size', 10), input_type=tuple]\n    For further information visit https://errors.pydantic.dev/2.9/v/float_type\nembedding.2\n  Input should be a valid number [type=float_type, input_value=('callback_manager', <lla... at 0x00000165F190D130>), input_type=tuple]\n    For further information visit https://errors.pydantic.dev/2.9/v/float_type\nembedding.3\n  Input should be a valid number [type=float_type, input_value=('num_workers', None), input_type=tuple]\n    For further information visit https://errors.pydantic.dev/2.9/v/float_type\nembedding.4\n  Input should be a valid number [type=float_type, input_value=('max_length', 256), input_type=tuple]\n    For further information visit https://errors.pydantic.dev/2.9/v/float_type\nembedding.5\n  Input should be a valid number [type=float_type, input_value=('normalize', True), input_type=tuple]\n    For further information visit https://errors.pydantic.dev/2.9/v/float_type\nembedding.6\n  Input should be a valid number [type=float_type, input_value=('query_instruction', None), input_type=tuple]\n    For further information visit https://errors.pydantic.dev/2.9/v/float_type\nembedding.7\n  Input should be a valid number [type=float_type, input_value=('text_instruction', None), input_type=tuple]\n    For further information visit https://errors.pydantic.dev/2.9/v/float_type\nembedding.8\n  Input should be a valid number [type=float_type, input_value=('cache_folder', None), input_type=tuple]\n    For further information visit https://errors.pydantic.dev/2.9/v/float_type",
     "output_type": "error",
     "traceback": [
      "\u001b[1;31m---------------------------------------------------------------------------\u001b[0m",
      "\u001b[1;31mValidationError\u001b[0m                           Traceback (most recent call last)",
      "Cell \u001b[1;32mIn[86], line 20\u001b[0m\n\u001b[0;32m     17\u001b[0m questions_answer_merge \u001b[38;5;241m=\u001b[39m [\u001b[38;5;124m\"\u001b[39m\u001b[38;5;124mWhat is LlamaIndex?\u001b[39m\u001b[38;5;124m\"\u001b[39m, \u001b[38;5;124m\"\u001b[39m\u001b[38;5;124mWho is Bob?\u001b[39m\u001b[38;5;124m\"\u001b[39m, \u001b[38;5;124m\"\u001b[39m\u001b[38;5;124mWhat is Qdrant?\u001b[39m\u001b[38;5;124m\"\u001b[39m]\n\u001b[0;32m     18\u001b[0m metadatas \u001b[38;5;241m=\u001b[39m [{\u001b[38;5;124m\"\u001b[39m\u001b[38;5;124mid\u001b[39m\u001b[38;5;124m\"\u001b[39m: \u001b[38;5;241m1\u001b[39m}, {\u001b[38;5;124m\"\u001b[39m\u001b[38;5;124mid\u001b[39m\u001b[38;5;124m\"\u001b[39m: \u001b[38;5;241m2\u001b[39m}, {\u001b[38;5;124m\"\u001b[39m\u001b[38;5;124mid\u001b[39m\u001b[38;5;124m\"\u001b[39m: \u001b[38;5;241m3\u001b[39m}]\n\u001b[0;32m     19\u001b[0m documents \u001b[38;5;241m=\u001b[39m [\n\u001b[1;32m---> 20\u001b[0m     \u001b[43mDocument\u001b[49m\u001b[43m(\u001b[49m\u001b[43mtext\u001b[49m\u001b[38;5;241;43m=\u001b[39;49m\u001b[43mquestions_answer_merge\u001b[49m\u001b[43m[\u001b[49m\u001b[43mi\u001b[49m\u001b[43m]\u001b[49m\u001b[43m,\u001b[49m\u001b[43m \u001b[49m\u001b[43mmetadata\u001b[49m\u001b[38;5;241;43m=\u001b[39;49m\u001b[43mmetadatas\u001b[49m\u001b[43m[\u001b[49m\u001b[43mi\u001b[49m\u001b[43m]\u001b[49m\u001b[43m,\u001b[49m\u001b[43membedding\u001b[49m\u001b[38;5;241;43m=\u001b[39;49m\u001b[43membed_model\u001b[49m\u001b[43m)\u001b[49m \n\u001b[0;32m     21\u001b[0m     \u001b[38;5;28;01mfor\u001b[39;00m i \u001b[38;5;129;01min\u001b[39;00m \u001b[38;5;28mrange\u001b[39m(\u001b[38;5;28mlen\u001b[39m(questions_answer_merge))\n\u001b[0;32m     22\u001b[0m ]\n\u001b[0;32m     24\u001b[0m vector_store \u001b[38;5;241m=\u001b[39m QdrantVectorStore(client\u001b[38;5;241m=\u001b[39mqdrant_client,collection_name\u001b[38;5;241m=\u001b[39m\u001b[38;5;124m\"\u001b[39m\u001b[38;5;124mmemory\u001b[39m\u001b[38;5;124m\"\u001b[39m)\n\u001b[0;32m     25\u001b[0m storage_context \u001b[38;5;241m=\u001b[39m StorageContext\u001b[38;5;241m.\u001b[39mfrom_defaults(vector_store\u001b[38;5;241m=\u001b[39mvector_store)\n",
      "File \u001b[1;32mc:\\Users\\EndUser\\AppData\\Local\\Programs\\Python\\Python312\\Lib\\site-packages\\pydantic\\main.py:212\u001b[0m, in \u001b[0;36mBaseModel.__init__\u001b[1;34m(self, **data)\u001b[0m\n\u001b[0;32m    210\u001b[0m \u001b[38;5;66;03m# `__tracebackhide__` tells pytest and some other tools to omit this function from tracebacks\u001b[39;00m\n\u001b[0;32m    211\u001b[0m __tracebackhide__ \u001b[38;5;241m=\u001b[39m \u001b[38;5;28;01mTrue\u001b[39;00m\n\u001b[1;32m--> 212\u001b[0m validated_self \u001b[38;5;241m=\u001b[39m \u001b[38;5;28;43mself\u001b[39;49m\u001b[38;5;241;43m.\u001b[39;49m\u001b[43m__pydantic_validator__\u001b[49m\u001b[38;5;241;43m.\u001b[39;49m\u001b[43mvalidate_python\u001b[49m\u001b[43m(\u001b[49m\u001b[43mdata\u001b[49m\u001b[43m,\u001b[49m\u001b[43m \u001b[49m\u001b[43mself_instance\u001b[49m\u001b[38;5;241;43m=\u001b[39;49m\u001b[38;5;28;43mself\u001b[39;49m\u001b[43m)\u001b[49m\n\u001b[0;32m    213\u001b[0m \u001b[38;5;28;01mif\u001b[39;00m \u001b[38;5;28mself\u001b[39m \u001b[38;5;129;01mis\u001b[39;00m \u001b[38;5;129;01mnot\u001b[39;00m validated_self:\n\u001b[0;32m    214\u001b[0m     warnings\u001b[38;5;241m.\u001b[39mwarn(\n\u001b[0;32m    215\u001b[0m         \u001b[38;5;124m'\u001b[39m\u001b[38;5;124mA custom validator is returning a value other than `self`.\u001b[39m\u001b[38;5;130;01m\\n\u001b[39;00m\u001b[38;5;124m'\u001b[39m\n\u001b[0;32m    216\u001b[0m         \u001b[38;5;124m\"\u001b[39m\u001b[38;5;124mReturning anything other than `self` from a top level model validator isn\u001b[39m\u001b[38;5;124m'\u001b[39m\u001b[38;5;124mt supported when validating via `__init__`.\u001b[39m\u001b[38;5;130;01m\\n\u001b[39;00m\u001b[38;5;124m\"\u001b[39m\n\u001b[0;32m    217\u001b[0m         \u001b[38;5;124m'\u001b[39m\u001b[38;5;124mSee the `model_validator` docs (https://docs.pydantic.dev/latest/concepts/validators/#model-validators) for more details.\u001b[39m\u001b[38;5;124m'\u001b[39m,\n\u001b[0;32m    218\u001b[0m         category\u001b[38;5;241m=\u001b[39m\u001b[38;5;28;01mNone\u001b[39;00m,\n\u001b[0;32m    219\u001b[0m     )\n",
      "\u001b[1;31mValidationError\u001b[0m: 9 validation errors for Document\nembedding.0\n  Input should be a valid number [type=float_type, input_value=('model_name', 'all-MiniLM-L6-v2'), input_type=tuple]\n    For further information visit https://errors.pydantic.dev/2.9/v/float_type\nembedding.1\n  Input should be a valid number [type=float_type, input_value=('embed_batch_size', 10), input_type=tuple]\n    For further information visit https://errors.pydantic.dev/2.9/v/float_type\nembedding.2\n  Input should be a valid number [type=float_type, input_value=('callback_manager', <lla... at 0x00000165F190D130>), input_type=tuple]\n    For further information visit https://errors.pydantic.dev/2.9/v/float_type\nembedding.3\n  Input should be a valid number [type=float_type, input_value=('num_workers', None), input_type=tuple]\n    For further information visit https://errors.pydantic.dev/2.9/v/float_type\nembedding.4\n  Input should be a valid number [type=float_type, input_value=('max_length', 256), input_type=tuple]\n    For further information visit https://errors.pydantic.dev/2.9/v/float_type\nembedding.5\n  Input should be a valid number [type=float_type, input_value=('normalize', True), input_type=tuple]\n    For further information visit https://errors.pydantic.dev/2.9/v/float_type\nembedding.6\n  Input should be a valid number [type=float_type, input_value=('query_instruction', None), input_type=tuple]\n    For further information visit https://errors.pydantic.dev/2.9/v/float_type\nembedding.7\n  Input should be a valid number [type=float_type, input_value=('text_instruction', None), input_type=tuple]\n    For further information visit https://errors.pydantic.dev/2.9/v/float_type\nembedding.8\n  Input should be a valid number [type=float_type, input_value=('cache_folder', None), input_type=tuple]\n    For further information visit https://errors.pydantic.dev/2.9/v/float_type"
     ]
    }
   ],
   "source": [
    "from llama_index.embeddings.huggingface import HuggingFaceEmbedding\n",
    "from llama_index.core import Settings,Document,VectorStoreIndex\n",
    "from llama_index.vector_stores.qdrant import QdrantVectorStore\n",
    "from llama_index.core import StorageContext\n",
    "\n",
    "embed_model = HuggingFaceEmbedding(model_name=\"all-MiniLM-L6-v2\")\n",
    "Settings.embed_model = embed_model\n",
    "\n",
    "qdrant_url = os.environ.get('QDRANT_URL')\n",
    "qdrant_key = os.environ.get('QDRANT_KEY')\n",
    "\n",
    "qdrant_client = QdrantClient(\n",
    "    url=qdrant_url, \n",
    "    api_key=qdrant_key\n",
    ")\n",
    "\n",
    "questions_answer_merge = [\"What is LlamaIndex?\", \"Who is Bob?\", \"What is Qdrant?\"]\n",
    "metadatas = [{\"id\": 1}, {\"id\": 2}, {\"id\": 3}]\n",
    "documents = [Document(text=t) for t in questions_answer_merge]\n",
    "\n",
    "vector_store = QdrantVectorStore(client=qdrant_client,collection_name=\"memory\")\n",
    "storage_context = StorageContext.from_defaults(vector_store=vector_store)\n",
    "index = VectorStoreIndex.from_documents(documents=documents,storage_context=storage_context,show_progress=True)\n"
   ]
  },
  {
   "cell_type": "code",
   "execution_count": 53,
   "metadata": {},
   "outputs": [
    {
     "name": "stdout",
     "output_type": "stream",
     "text": [
      "<langchain_qdrant.vectorstores.Qdrant object at 0x0000016582C02FC0>\n"
     ]
    }
   ],
   "source": [
    "from langchain_qdrant import Qdrant\n",
    "from qdrant_client.http.models import Distance\n",
    "from langchain_core.documents import Document\n",
    "\n",
    "\n",
    "qdrant = Qdrant.from_texts(\n",
    "    # array which we want to embed\n",
    "    questions_answer_merge,\n",
    "    embeddings,\n",
    "    url=qdrant_url,\n",
    "    api_key=qdrant_key,\n",
    "    prefer_grpc=False,\n",
    "    collection_name=\"memory\",\n",
    "    metadatas=[{\"id\":1},{\"id\":2},{\"id\":3}],\n",
    "    distance_func=Distance.COSINE\n",
    ")\n",
    "\n",
    "print(qdrant)"
   ]
  },
  {
   "cell_type": "code",
   "execution_count": 70,
   "metadata": {},
   "outputs": [
    {
     "ename": "AttributeError",
     "evalue": "'str' object has no attribute 'get_doc_id'",
     "output_type": "error",
     "traceback": [
      "\u001b[1;31m---------------------------------------------------------------------------\u001b[0m",
      "\u001b[1;31mAttributeError\u001b[0m                            Traceback (most recent call last)",
      "Cell \u001b[1;32mIn[70], line 21\u001b[0m\n\u001b[0;32m     13\u001b[0m qdrant_vector_store \u001b[38;5;241m=\u001b[39m QdrantVectorStore(\n\u001b[0;32m     14\u001b[0m     collection_name\u001b[38;5;241m=\u001b[39m\u001b[38;5;124m\"\u001b[39m\u001b[38;5;124mmemory\u001b[39m\u001b[38;5;124m\"\u001b[39m,\n\u001b[0;32m     15\u001b[0m     client\u001b[38;5;241m=\u001b[39mqdrant_client,\n\u001b[0;32m     16\u001b[0m     embeddings\u001b[38;5;241m=\u001b[39membed_model,\n\u001b[0;32m     17\u001b[0m     metadata\u001b[38;5;241m=\u001b[39m[{\u001b[38;5;124m\"\u001b[39m\u001b[38;5;124mid\u001b[39m\u001b[38;5;124m\"\u001b[39m:\u001b[38;5;241m1\u001b[39m},{\u001b[38;5;124m\"\u001b[39m\u001b[38;5;124mid\u001b[39m\u001b[38;5;124m\"\u001b[39m:\u001b[38;5;241m2\u001b[39m},{\u001b[38;5;124m\"\u001b[39m\u001b[38;5;124mid\u001b[39m\u001b[38;5;124m\"\u001b[39m:\u001b[38;5;241m3\u001b[39m}]\n\u001b[0;32m     18\u001b[0m )\n\u001b[0;32m     20\u001b[0m \u001b[38;5;66;03m# Create the VectorStoreIndex using Qdrant as the backend\u001b[39;00m\n\u001b[1;32m---> 21\u001b[0m index \u001b[38;5;241m=\u001b[39m \u001b[43mVectorStoreIndex\u001b[49m\u001b[38;5;241;43m.\u001b[39;49m\u001b[43mfrom_documents\u001b[49m\u001b[43m(\u001b[49m\n\u001b[0;32m     22\u001b[0m \u001b[43m    \u001b[49m\u001b[43mdocuments\u001b[49m\u001b[38;5;241;43m=\u001b[39;49m\u001b[43mquestions_answer_merge\u001b[49m\u001b[43m,\u001b[49m\u001b[43m  \u001b[49m\u001b[38;5;66;43;03m# The array to embed\u001b[39;49;00m\n\u001b[0;32m     23\u001b[0m \u001b[43m)\u001b[49m\n",
      "File \u001b[1;32mc:\\Users\\EndUser\\AppData\\Local\\Programs\\Python\\Python312\\Lib\\site-packages\\llama_index\\core\\indices\\base.py:110\u001b[0m, in \u001b[0;36mBaseIndex.from_documents\u001b[1;34m(cls, documents, storage_context, show_progress, callback_manager, transformations, **kwargs)\u001b[0m\n\u001b[0;32m    108\u001b[0m \u001b[38;5;28;01mwith\u001b[39;00m callback_manager\u001b[38;5;241m.\u001b[39mas_trace(\u001b[38;5;124m\"\u001b[39m\u001b[38;5;124mindex_construction\u001b[39m\u001b[38;5;124m\"\u001b[39m):\n\u001b[0;32m    109\u001b[0m     \u001b[38;5;28;01mfor\u001b[39;00m doc \u001b[38;5;129;01min\u001b[39;00m documents:\n\u001b[1;32m--> 110\u001b[0m         docstore\u001b[38;5;241m.\u001b[39mset_document_hash(\u001b[43mdoc\u001b[49m\u001b[38;5;241;43m.\u001b[39;49m\u001b[43mget_doc_id\u001b[49m(), doc\u001b[38;5;241m.\u001b[39mhash)\n\u001b[0;32m    112\u001b[0m     nodes \u001b[38;5;241m=\u001b[39m run_transformations(\n\u001b[0;32m    113\u001b[0m         documents,  \u001b[38;5;66;03m# type: ignore\u001b[39;00m\n\u001b[0;32m    114\u001b[0m         transformations,\n\u001b[0;32m    115\u001b[0m         show_progress\u001b[38;5;241m=\u001b[39mshow_progress,\n\u001b[0;32m    116\u001b[0m         \u001b[38;5;241m*\u001b[39m\u001b[38;5;241m*\u001b[39mkwargs,\n\u001b[0;32m    117\u001b[0m     )\n\u001b[0;32m    119\u001b[0m     \u001b[38;5;28;01mreturn\u001b[39;00m \u001b[38;5;28mcls\u001b[39m(\n\u001b[0;32m    120\u001b[0m         nodes\u001b[38;5;241m=\u001b[39mnodes,\n\u001b[0;32m    121\u001b[0m         storage_context\u001b[38;5;241m=\u001b[39mstorage_context,\n\u001b[1;32m   (...)\u001b[0m\n\u001b[0;32m    125\u001b[0m         \u001b[38;5;241m*\u001b[39m\u001b[38;5;241m*\u001b[39mkwargs,\n\u001b[0;32m    126\u001b[0m     )\n",
      "\u001b[1;31mAttributeError\u001b[0m: 'str' object has no attribute 'get_doc_id'"
     ]
    }
   ],
   "source": [
    "from llama_index.core import VectorStoreIndex\n",
    "from llama_index.vector_stores.qdrant import QdrantVectorStore\n",
    "from qdrant_client import QdrantClient\n",
    "\n",
    "qdrant_url = os.environ.get('QDRANT_URL')\n",
    "qdrant_key = os.environ.get('QDRANT_KEY')\n",
    "\n",
    "qdrant_client = QdrantClient(\n",
    "    url=qdrant_url, \n",
    "    api_key=qdrant_key\n",
    ")\n",
    "\n",
    "qdrant_vector_store = QdrantVectorStore(\n",
    "    collection_name=\"memory\",\n",
    "    client=qdrant_client,\n",
    "    embeddings=embed_model,\n",
    "    metadata=[{\"id\":1},{\"id\":2},{\"id\":3}]\n",
    ")\n",
    "\n",
    "# Create the VectorStoreIndex using Qdrant as the backend\n",
    "index = VectorStoreIndex.from_documents(\n",
    "    documents=questions_answer_merge,  # The array to embed\n",
    ")"
   ]
  },
  {
   "cell_type": "code",
   "execution_count": 84,
   "metadata": {},
   "outputs": [
    {
     "ename": "ValidationError",
     "evalue": "13 validation errors for Document\nembedding.0\n  Input should be a valid number [type=float_type, input_value=('model_name', 'text-embedding-ada-002'), input_type=tuple]\n    For further information visit https://errors.pydantic.dev/2.9/v/float_type\nembedding.1\n  Input should be a valid number [type=float_type, input_value=('embed_batch_size', 100), input_type=tuple]\n    For further information visit https://errors.pydantic.dev/2.9/v/float_type\nembedding.2\n  Input should be a valid number [type=float_type, input_value=('callback_manager', <lla... at 0x000001658883DF70>), input_type=tuple]\n    For further information visit https://errors.pydantic.dev/2.9/v/float_type\nembedding.3\n  Input should be a valid number [type=float_type, input_value=('num_workers', None), input_type=tuple]\n    For further information visit https://errors.pydantic.dev/2.9/v/float_type\nembedding.4\n  Input should be a valid number [type=float_type, input_value=('additional_kwargs', {}), input_type=tuple]\n    For further information visit https://errors.pydantic.dev/2.9/v/float_type\nembedding.5\n  Input should be a valid number [type=float_type, input_value=('api_key', ''), input_type=tuple]\n    For further information visit https://errors.pydantic.dev/2.9/v/float_type\nembedding.6\n  Input should be a valid number [type=float_type, input_value=('api_base', 'https://api.openai.com/v1'), input_type=tuple]\n    For further information visit https://errors.pydantic.dev/2.9/v/float_type\nembedding.7\n  Input should be a valid number [type=float_type, input_value=('api_version', ''), input_type=tuple]\n    For further information visit https://errors.pydantic.dev/2.9/v/float_type\nembedding.8\n  Input should be a valid number [type=float_type, input_value=('max_retries', 10), input_type=tuple]\n    For further information visit https://errors.pydantic.dev/2.9/v/float_type\nembedding.9\n  Input should be a valid number [type=float_type, input_value=('timeout', 60.0), input_type=tuple]\n    For further information visit https://errors.pydantic.dev/2.9/v/float_type\nembedding.10\n  Input should be a valid number [type=float_type, input_value=('default_headers', None), input_type=tuple]\n    For further information visit https://errors.pydantic.dev/2.9/v/float_type\nembedding.11\n  Input should be a valid number [type=float_type, input_value=('reuse_client', True), input_type=tuple]\n    For further information visit https://errors.pydantic.dev/2.9/v/float_type\nembedding.12\n  Input should be a valid number [type=float_type, input_value=('dimensions', None), input_type=tuple]\n    For further information visit https://errors.pydantic.dev/2.9/v/float_type",
     "output_type": "error",
     "traceback": [
      "\u001b[1;31m---------------------------------------------------------------------------\u001b[0m",
      "\u001b[1;31mValidationError\u001b[0m                           Traceback (most recent call last)",
      "Cell \u001b[1;32mIn[84], line 22\u001b[0m\n\u001b[0;32m     18\u001b[0m embedding_model \u001b[38;5;241m=\u001b[39m OpenAIEmbedding()\n\u001b[0;32m     20\u001b[0m \u001b[38;5;66;03m# Wrap each text and its metadata in a Document object\u001b[39;00m\n\u001b[0;32m     21\u001b[0m documents \u001b[38;5;241m=\u001b[39m [\n\u001b[1;32m---> 22\u001b[0m     \u001b[43mDocument\u001b[49m\u001b[43m(\u001b[49m\u001b[43mtext\u001b[49m\u001b[38;5;241;43m=\u001b[39;49m\u001b[43mquestions_answer_merge\u001b[49m\u001b[43m[\u001b[49m\u001b[43mi\u001b[49m\u001b[43m]\u001b[49m\u001b[43m,\u001b[49m\u001b[43m \u001b[49m\u001b[43mmetadata\u001b[49m\u001b[38;5;241;43m=\u001b[39;49m\u001b[43mmetadatas\u001b[49m\u001b[43m[\u001b[49m\u001b[43mi\u001b[49m\u001b[43m]\u001b[49m\u001b[43m,\u001b[49m\u001b[43membedding\u001b[49m\u001b[38;5;241;43m=\u001b[39;49m\u001b[43membedding_model\u001b[49m\u001b[43m)\u001b[49m \n\u001b[0;32m     23\u001b[0m     \u001b[38;5;28;01mfor\u001b[39;00m i \u001b[38;5;129;01min\u001b[39;00m \u001b[38;5;28mrange\u001b[39m(\u001b[38;5;28mlen\u001b[39m(questions_answer_merge))\n\u001b[0;32m     24\u001b[0m ]\n\u001b[0;32m     25\u001b[0m \u001b[38;5;66;03m# Create a QdrantVectorStore instance for LlamaIndex\u001b[39;00m\n\u001b[0;32m     26\u001b[0m qdrant_vector_store \u001b[38;5;241m=\u001b[39m QdrantVectorStore(\n\u001b[0;32m     27\u001b[0m     collection_name\u001b[38;5;241m=\u001b[39m\u001b[38;5;124m\"\u001b[39m\u001b[38;5;124mmemory\u001b[39m\u001b[38;5;124m\"\u001b[39m,\n\u001b[0;32m     28\u001b[0m     client\u001b[38;5;241m=\u001b[39mqdrant_client,\n\u001b[0;32m     29\u001b[0m     embeddings\u001b[38;5;241m=\u001b[39membedding_model\n\u001b[0;32m     30\u001b[0m )\n",
      "File \u001b[1;32mc:\\Users\\EndUser\\AppData\\Local\\Programs\\Python\\Python312\\Lib\\site-packages\\pydantic\\main.py:212\u001b[0m, in \u001b[0;36mBaseModel.__init__\u001b[1;34m(self, **data)\u001b[0m\n\u001b[0;32m    210\u001b[0m \u001b[38;5;66;03m# `__tracebackhide__` tells pytest and some other tools to omit this function from tracebacks\u001b[39;00m\n\u001b[0;32m    211\u001b[0m __tracebackhide__ \u001b[38;5;241m=\u001b[39m \u001b[38;5;28;01mTrue\u001b[39;00m\n\u001b[1;32m--> 212\u001b[0m validated_self \u001b[38;5;241m=\u001b[39m \u001b[38;5;28;43mself\u001b[39;49m\u001b[38;5;241;43m.\u001b[39;49m\u001b[43m__pydantic_validator__\u001b[49m\u001b[38;5;241;43m.\u001b[39;49m\u001b[43mvalidate_python\u001b[49m\u001b[43m(\u001b[49m\u001b[43mdata\u001b[49m\u001b[43m,\u001b[49m\u001b[43m \u001b[49m\u001b[43mself_instance\u001b[49m\u001b[38;5;241;43m=\u001b[39;49m\u001b[38;5;28;43mself\u001b[39;49m\u001b[43m)\u001b[49m\n\u001b[0;32m    213\u001b[0m \u001b[38;5;28;01mif\u001b[39;00m \u001b[38;5;28mself\u001b[39m \u001b[38;5;129;01mis\u001b[39;00m \u001b[38;5;129;01mnot\u001b[39;00m validated_self:\n\u001b[0;32m    214\u001b[0m     warnings\u001b[38;5;241m.\u001b[39mwarn(\n\u001b[0;32m    215\u001b[0m         \u001b[38;5;124m'\u001b[39m\u001b[38;5;124mA custom validator is returning a value other than `self`.\u001b[39m\u001b[38;5;130;01m\\n\u001b[39;00m\u001b[38;5;124m'\u001b[39m\n\u001b[0;32m    216\u001b[0m         \u001b[38;5;124m\"\u001b[39m\u001b[38;5;124mReturning anything other than `self` from a top level model validator isn\u001b[39m\u001b[38;5;124m'\u001b[39m\u001b[38;5;124mt supported when validating via `__init__`.\u001b[39m\u001b[38;5;130;01m\\n\u001b[39;00m\u001b[38;5;124m\"\u001b[39m\n\u001b[0;32m    217\u001b[0m         \u001b[38;5;124m'\u001b[39m\u001b[38;5;124mSee the `model_validator` docs (https://docs.pydantic.dev/latest/concepts/validators/#model-validators) for more details.\u001b[39m\u001b[38;5;124m'\u001b[39m,\n\u001b[0;32m    218\u001b[0m         category\u001b[38;5;241m=\u001b[39m\u001b[38;5;28;01mNone\u001b[39;00m,\n\u001b[0;32m    219\u001b[0m     )\n",
      "\u001b[1;31mValidationError\u001b[0m: 13 validation errors for Document\nembedding.0\n  Input should be a valid number [type=float_type, input_value=('model_name', 'text-embedding-ada-002'), input_type=tuple]\n    For further information visit https://errors.pydantic.dev/2.9/v/float_type\nembedding.1\n  Input should be a valid number [type=float_type, input_value=('embed_batch_size', 100), input_type=tuple]\n    For further information visit https://errors.pydantic.dev/2.9/v/float_type\nembedding.2\n  Input should be a valid number [type=float_type, input_value=('callback_manager', <lla... at 0x000001658883DF70>), input_type=tuple]\n    For further information visit https://errors.pydantic.dev/2.9/v/float_type\nembedding.3\n  Input should be a valid number [type=float_type, input_value=('num_workers', None), input_type=tuple]\n    For further information visit https://errors.pydantic.dev/2.9/v/float_type\nembedding.4\n  Input should be a valid number [type=float_type, input_value=('additional_kwargs', {}), input_type=tuple]\n    For further information visit https://errors.pydantic.dev/2.9/v/float_type\nembedding.5\n  Input should be a valid number [type=float_type, input_value=('api_key', ''), input_type=tuple]\n    For further information visit https://errors.pydantic.dev/2.9/v/float_type\nembedding.6\n  Input should be a valid number [type=float_type, input_value=('api_base', 'https://api.openai.com/v1'), input_type=tuple]\n    For further information visit https://errors.pydantic.dev/2.9/v/float_type\nembedding.7\n  Input should be a valid number [type=float_type, input_value=('api_version', ''), input_type=tuple]\n    For further information visit https://errors.pydantic.dev/2.9/v/float_type\nembedding.8\n  Input should be a valid number [type=float_type, input_value=('max_retries', 10), input_type=tuple]\n    For further information visit https://errors.pydantic.dev/2.9/v/float_type\nembedding.9\n  Input should be a valid number [type=float_type, input_value=('timeout', 60.0), input_type=tuple]\n    For further information visit https://errors.pydantic.dev/2.9/v/float_type\nembedding.10\n  Input should be a valid number [type=float_type, input_value=('default_headers', None), input_type=tuple]\n    For further information visit https://errors.pydantic.dev/2.9/v/float_type\nembedding.11\n  Input should be a valid number [type=float_type, input_value=('reuse_client', True), input_type=tuple]\n    For further information visit https://errors.pydantic.dev/2.9/v/float_type\nembedding.12\n  Input should be a valid number [type=float_type, input_value=('dimensions', None), input_type=tuple]\n    For further information visit https://errors.pydantic.dev/2.9/v/float_type"
     ]
    }
   ],
   "source": [
    "import qdrant_client\n",
    "from llama_index.vector_stores.qdrant import QdrantVectorStore\n",
    "from llama_index.core import Document\n",
    "\n",
    "qdrant_url = os.environ.get('QDRANT_URL')\n",
    "qdrant_key = os.environ.get('QDRANT_KEY')\n",
    "\n",
    "qdrant_client = QdrantClient(\n",
    "    url=qdrant_url, \n",
    "    api_key=qdrant_key\n",
    ")\n",
    "\n",
    "# Prepare the data: texts and metadata\n",
    "questions_answer_merge = [\"What is LlamaIndex?\", \"Who is Bob?\", \"What is Qdrant?\"]\n",
    "metadatas = [{\"id\": 1}, {\"id\": 2}, {\"id\": 3}]\n",
    "\n",
    "from llama_index.embeddings.openai import OpenAIEmbedding\n",
    "embedding_model = OpenAIEmbedding()\n",
    "\n",
    "# Wrap each text and its metadata in a Document object\n",
    "questions_answer_merge = [\"What is LlamaIndex?\", \"Who is Bob?\", \"What is Qdrant?\"]\n",
    "metadatas = [{\"id\": 1}, {\"id\": 2}, {\"id\": 3}]\n",
    "documents = [\n",
    "    Document(text=questions_answer_merge[i], metadata=metadatas[i],embedding=embedding_model) \n",
    "    for i in range(len(questions_answer_merge))\n",
    "]\n",
    "# Create a QdrantVectorStore instance for LlamaIndex\n",
    "qdrant_vector_store = QdrantVectorStore(\n",
    "    collection_name=\"memory\",\n",
    "    client=qdrant_client,\n",
    "    embeddings=embedding_model\n",
    ")\n",
    "\n",
    "# Create the VectorStoreIndex using Qdrant as the backend\n",
    "index = VectorStoreIndex.from_documents(\n",
    "    documents=documents,  # The array of Document objects\n",
    "    vector_store=qdrant_vector_store\n",
    ")\n",
    "print(index)"
   ]
  },
  {
   "cell_type": "code",
   "execution_count": 85,
   "metadata": {},
   "outputs": [],
   "source": [
    "from llama_index.core import Document, VectorStoreIndex\n",
    "\n",
    "text_list = [\"text1\", \"text2\"]\n",
    "documents = [Document(text=t) for t in text_list]\n",
    "\n",
    "# build index\n",
    "index = VectorStoreIndex.from_documents(documents)"
   ]
  },
  {
   "cell_type": "code",
   "execution_count": null,
   "metadata": {},
   "outputs": [],
   "source": []
  }
 ],
 "metadata": {
  "kernelspec": {
   "display_name": "Python 3",
   "language": "python",
   "name": "python3"
  },
  "language_info": {
   "codemirror_mode": {
    "name": "ipython",
    "version": 3
   },
   "file_extension": ".py",
   "mimetype": "text/x-python",
   "name": "python",
   "nbconvert_exporter": "python",
   "pygments_lexer": "ipython3",
   "version": "3.12.3"
  }
 },
 "nbformat": 4,
 "nbformat_minor": 2
}
