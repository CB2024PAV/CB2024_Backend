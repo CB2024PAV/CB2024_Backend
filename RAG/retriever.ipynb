{
 "cells": [
  {
   "cell_type": "code",
   "execution_count": 7,
   "metadata": {},
   "outputs": [
    {
     "name": "stdout",
     "output_type": "stream",
     "text": [
      "collections=[CollectionDescription(name='memory')]\n"
     ]
    }
   ],
   "source": [
    "# from langchain_qdrant import Qdrant\n",
    "from langchain_qdrant import Qdrant\n",
    "from langchain.embeddings import SentenceTransformerEmbeddings\n",
    "from qdrant_client import QdrantClient\n",
    "from dotenv import load_dotenv\n",
    "import os\n",
    "\n",
    "load_dotenv()\n",
    "\n",
    "from qdrant_client import QdrantClient\n",
    "\n",
    "qdrant_client = QdrantClient(\n",
    "    url=\"https://e646692d-f51e-4e7c-82b4-1454ee753736.europe-west3-0.gcp.cloud.qdrant.io:6333\", \n",
    "    api_key=\"ESm1QRdmuenA0ZqSp5W_ek5JXPf5anXOREl9k5dyI44Z1JQTK6B8rw\",\n",
    ")\n",
    "\n",
    "print(qdrant_client.get_collections())"
   ]
  },
  {
   "cell_type": "code",
   "execution_count": 8,
   "metadata": {},
   "outputs": [],
   "source": [
    "embeddings = SentenceTransformerEmbeddings(model_name=\"all-MiniLM-L6-v2\")"
   ]
  },
  {
   "cell_type": "code",
   "execution_count": 11,
   "metadata": {},
   "outputs": [
    {
     "name": "stdout",
     "output_type": "stream",
     "text": [
      "{'score': 0.85334724, 'content': 'Who is achala pandith?: Achala is your daughter and is married to Vichala in the year 2020'}\n",
      "{'score': 1.2598798, 'content': 'Who is my wife? Vimala is wife who passed away in 2021 because of flood in Chennai'}\n",
      "{'score': 1.3025744, 'content': 'What did you what in the past? I worked as a plumber and then worked as a mechanic in Tata industry'}\n"
     ]
    }
   ],
   "source": [
    "db = Qdrant(client=qdrant_client, embeddings=embeddings, collection_name=\"memory\")\n",
    "\n",
    "query = \"Who is achala?\"\n",
    "\n",
    "# get the similarity search using the vector db and embedding the query, k is number of required to fetch number of ICDs\n",
    "docs = db.similarity_search_with_score(query=query)\n",
    "for i in docs:\n",
    "    doc, score = i\n",
    "    print({\"score\": score, \"content\": doc.page_content})"
   ]
  }
 ],
 "metadata": {
  "kernelspec": {
   "display_name": "Python 3",
   "language": "python",
   "name": "python3"
  },
  "language_info": {
   "codemirror_mode": {
    "name": "ipython",
    "version": 3
   },
   "file_extension": ".py",
   "mimetype": "text/x-python",
   "name": "python",
   "nbconvert_exporter": "python",
   "pygments_lexer": "ipython3",
   "version": "3.10.12"
  }
 },
 "nbformat": 4,
 "nbformat_minor": 2
}
