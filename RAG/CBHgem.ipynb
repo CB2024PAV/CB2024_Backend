{
  "cells": [
    {
      "cell_type": "code",
      "execution_count": 2,
      "metadata": {
        "id": "rZUk2VI4voON"
      },
      "outputs": [],
      "source": [
        "import os\n",
        "import google.generativeai as genai\n",
        "from langchain.prompts import PromptTemplate\n",
        "from langchain_google_genai import ChatGoogleGenerativeAI\n",
        "from langchain.chains import SequentialChain, LLMChain\n",
        "from dotenv import load_dotenv"
      ]
    },
    {
      "cell_type": "code",
      "execution_count": 5,
      "metadata": {},
      "outputs": [],
      "source": [
        "def get_good_morning_msg(background):\n",
        "    load_dotenv()\n",
        "    api_key = os.getenv(\"GOOGLE_API_KEY\")\n",
        "    llm = ChatGoogleGenerativeAI(model=\"gemini-1.5-flash\",api_key=api_key)\n",
        "\n",
        "    good_morning = PromptTemplate(\n",
        "        input_variables=[\"background\"],\n",
        "        template=\"\"\"\n",
        "        Generate a good morning message for a patient who is having a kind memory impairment.\n",
        "        The message should include a pleasant greeting, today's date, brief about who he is, past key events, goals for the day, a breif health and wellness check and an encouraging note in the end.\n",
        "        Below are details about the patient that can help you formulate a nice paragraph in not more than 200 words.\n",
        "        {background}\"\"\"\n",
        "    )\n",
        "\n",
        "    output = llm.invoke(good_morning.format(background = background))\n",
        "    # print(output.content)\n",
        "    return output.content\n"
      ]
    },
    {
      "cell_type": "code",
      "execution_count": 6,
      "metadata": {},
      "outputs": [
        {
          "name": "stdout",
          "output_type": "stream",
          "text": [
            "Good morning, Bob! It's a beautiful Tuesday, October 24th. Remember your school days? You were quite the bright student!  You've always been a hard worker, from your time as a mechanic to becoming a plumber.  And you had a wonderful life with Alice, your wife, by your side. You even met her near a bakery in Santa Monica - just like in those old movies!  Today, why don't you try solving some puzzles like the Rubik's cube you love? It's a great way to exercise your mind.  How are you feeling today? Remember to take things slowly and avoid any loud noises or crowded places.  Have a wonderful day, Bob! \n",
            "\n"
          ]
        }
      ],
      "source": [
        "bg = \"\"\"\n",
        "Q1. Full Name:Bob \n",
        "A1. Bob\n",
        "\n",
        "Q2. Date of Birth:March, 2, 1974\n",
        "A2. March, 2, 1974\n",
        "\n",
        "Q3. Gender and Pronouns:Male, He/Him\n",
        "A3. Male, He/Him\n",
        "\n",
        "Q4. Medical Diagnosis: Bob has been diagnoised with Dementia since 2020. He has difficulty remembering his family members and past events of his adult life. He only remembers about his school days and everything after that is blurry.\n",
        "A4. Bob has been diagnoised with Dementia since 2020. He has difficulty remembering his family members and past events of his adult life. He only remembers about his school days and everything after that is blurry.\n",
        "\n",
        "Q5. How does your typical day look like:He gets up around 6AM, goes for a walk in his neighborhood, prepare eggs for breakfast. He spends sometime reading the newspaper and solving puzzles in it. His caretaker visits him during the afternoon who also brings lunch for him. Later he writes some articles for his blog and goes to bed after dinner. \n",
        "A5. He gets up around 6AM, goes for a walk in his neighborhood, prepare eggs for breakfast. He spends sometime reading the newspaper and solving puzzles in it. His caretaker visits him during the afternoon who also brings lunch for him. Later he writes some articles for his blog and goes to bed after dinner.\n",
        "\n",
        "Q6. Details of key Family and friends:Bob was married to Alice. Alice passed away in 2022. He has two kids Nemo and Dory. He also has a grandson named Rin (son of Nemo) that he absolutely adores.  \n",
        "A6. Bob was married to Alice. Alice passed away in 2022. He has two kids Nemo and Dory. He also has a grandson named Rin (son of Nemo) that he absolutely adores. \n",
        "\n",
        "Q7. Activities that provide comfort:Spending time at the beach, he loved all shades of blue color. He loves solving puzzles! Especially the rubik's cube. \n",
        "A7. Spending time at the beach, he loved all shades of blue color. He loves solving puzzles! Especially the rubik's cube.\n",
        "\n",
        "Q8. Any known triggers for stress and anxiety:Crowded places, loud noises\n",
        "A8. Crowded places, loud noises\n",
        "\n",
        "Q9. \"\"\n",
        "A9. Bob worked as a Mechanic for Tata for around 10 years and then transitioned to become a Plumber. He continued in this role for the next 22 years. \n",
        "He met his wife near a bakery in Santa Monica. Alice loves baking and the smell of bread. They got married by the beach in 1974. \n",
        "Met with an accident that injured knee in 2008.\n",
        "\"\"\"\n",
        "\n",
        "print(get_good_morning_msg(bg))"
      ]
    },
    {
      "cell_type": "code",
      "execution_count": null,
      "metadata": {},
      "outputs": [],
      "source": []
    }
  ],
  "metadata": {
    "colab": {
      "provenance": []
    },
    "kernelspec": {
      "display_name": "Python 3",
      "name": "python3"
    },
    "language_info": {
      "codemirror_mode": {
        "name": "ipython",
        "version": 3
      },
      "file_extension": ".py",
      "mimetype": "text/x-python",
      "name": "python",
      "nbconvert_exporter": "python",
      "pygments_lexer": "ipython3",
      "version": "3.12.3"
    }
  },
  "nbformat": 4,
  "nbformat_minor": 0
}
