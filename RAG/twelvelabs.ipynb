{
 "cells": [
  {
   "cell_type": "code",
   "execution_count": 16,
   "metadata": {},
   "outputs": [
    {
     "name": "stdout",
     "output_type": "stream",
     "text": [
      " video_id=670b0653dac7092d3ab32d7c score=85.61 start=0.0 end=4.0 confidence=high metadata=[{'type': 'visual'}]\n"
     ]
    }
   ],
   "source": [
    "from twelvelabs import TwelveLabs\n",
    "\n",
    "client = TwelveLabs(api_key=\"tlk_1KA15WZ1VBPGZ82M1WVB31EDGDYP\")\n",
    "\n",
    "search_results = client.search.query(\n",
    "    index_id=\"670b05b340f1b7df6d03d8c0\",\n",
    "    query_media_type=\"image\",\n",
    "    query_media_file=\"./achala3.jpeg\", # Use query_media_url instead to provide a file from a publicly accessible URL.\n",
    "    options=[\"visual\"]\n",
    ")\n",
    "\n",
    "# Utility function to print a specific page\n",
    "def print_page(page):\n",
    "  for clip in page:\n",
    "    print(\n",
    "        f\" video_id={clip.video_id} score={clip.score} start={clip.start} end={clip.end} confidence={clip.confidence} metadata={clip.metadata}\"\n",
    "    )\n",
    "print_page(search_results.data)"
   ]
  },
  {
   "cell_type": "code",
   "execution_count": 4,
   "metadata": {},
   "outputs": [
    {
     "data": {
      "text/plain": [
       "<Response [400]>"
      ]
     },
     "execution_count": 4,
     "metadata": {},
     "output_type": "execute_result"
    }
   ],
   "source": [
    "def print_page(page):\n",
    "  for clip in page:\n",
    "    print(\n",
    "        f\" video_id={clip.video_id} score={clip.score} start={clip.start} end={clip.end} confidence={clip.confidence} metadata={clip.metadata}\"\n",
    "    )\n",
    "\n",
    "print_page(search_results.data)"
   ]
  },
  {
   "cell_type": "code",
   "execution_count": 22,
   "metadata": {},
   "outputs": [
    {
     "name": "stdout",
     "output_type": "stream",
     "text": [
      "https://api.twelvelabs.io/v1.2/indexes/670b05b340f1b7df6d03d8c0/videos/670b0653dac7092d3ab32d7c\n",
      "{\"code\":\"api_key_invalid\",\"message\":\"API Key is either invalid or expired. Please check your API key or generate a new one from the dashboard and try again.\"}\n",
      "\n"
     ]
    }
   ],
   "source": [
    "from twelvelabs import TwelveLabs\n",
    "import requests\n",
    "\n",
    "client = TwelveLabs(api_key=\"tlk_1KA15WZ1VBPGZ82M1WVB31EDGDYP\")\n",
    "\n",
    "search_results = client.search.query(\n",
    "  index_id=\"670b05b340f1b7df6d03d8c0\", \n",
    "  query_text=\"dory\", \n",
    "  options=[\"visual\",\"conversation\"]\n",
    ")\n",
    "\n",
    "try:\n",
    "  video_id = search_results.data[0].video_id\n",
    "except:\n",
    "  video_id = None\n",
    "\n",
    "if video_id:\n",
    "  url = \"https://api.twelvelabs.io/v1.2/indexes/{}/videos/{}\".format(\"670b05b340f1b7df6d03d8c0\",video_id)\n",
    "  print(url)\n",
    "  headers = {\n",
    "      \"accept\": \"application/json\",\n",
    "      \"Content-Type\": \"application/json\",\n",
    "      \"x-api-key\":\"tlk_1KA15WZ1VBPGZ82M1WVB31EDGDYP\"\n",
    "  }\n",
    "\n",
    "  response = requests.get(url, headers=headers)\n",
    "\n",
    "  print(response.text)\n",
    "      "
   ]
  },
  {
   "cell_type": "code",
   "execution_count": null,
   "metadata": {},
   "outputs": [],
   "source": []
  }
 ],
 "metadata": {
  "kernelspec": {
   "display_name": "Python 3",
   "language": "python",
   "name": "python3"
  },
  "language_info": {
   "codemirror_mode": {
    "name": "ipython",
    "version": 3
   },
   "file_extension": ".py",
   "mimetype": "text/x-python",
   "name": "python",
   "nbconvert_exporter": "python",
   "pygments_lexer": "ipython3",
   "version": "3.12.3"
  }
 },
 "nbformat": 4,
 "nbformat_minor": 2
}
