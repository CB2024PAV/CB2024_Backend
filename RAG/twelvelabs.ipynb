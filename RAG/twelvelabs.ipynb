{
 "cells": [
  {
   "cell_type": "code",
   "execution_count": null,
   "metadata": {
    "vscode": {
     "languageId": "plaintext"
    }
   },
   "outputs": [],
   "source": [
    "import requests\n",
    "\n",
    "# Variables\n",
    "BASE_URL = \"https://api.twelvelabs.io/v1.2\"\n",
    "api_key = \"tlk_1KA15WZ1VBPGZ82M1WVB31EDGDYP\"\n",
    "data = {\n",
    "    \"index_id\": \"670b05b340f1b7df6d03d8c0\",\n",
    "    \"query_media_file\": \"(binary)\",\n",
    "    \"query_media_type\": \"image\",\n",
    "    \"group_by\": \"clip\",\n",
    "    \"search_options\": [\n",
    "        \"visual\",\n",
    "        \"conversation\"\n",
    "    ],\n",
    "    \"threshold\": \"low\",\n",
    "    \"page_limit\": 12\n",
    "}\n",
    "\n",
    "# Send request\n",
    "response = requests.post(f\"{BASE_URL}/search-v2\", files=data, headers={\"x-api-key\": api_key})"
   ]
  }
 ],
 "metadata": {
  "language_info": {
   "name": "python"
  }
 },
 "nbformat": 4,
 "nbformat_minor": 2
}
